{
 "cells": [
  {
   "cell_type": "markdown",
   "metadata": {},
   "source": [
    "# HW1"
   ]
  },
  {
   "cell_type": "code",
   "execution_count": 4,
   "metadata": {},
   "outputs": [
    {
     "name": "stdout",
     "output_type": "stream",
     "text": [
      "請輸入一個數字：20\n",
      "[120]\n"
     ]
    }
   ],
   "source": [
    "a=input('請輸入一個數字：')\n",
    "num=[int(a)]\n",
    "print(list(map(lambda X:X+100,num)))"
   ]
  },
  {
   "cell_type": "markdown",
   "metadata": {},
   "source": [
    "# HW2"
   ]
  },
  {
   "cell_type": "code",
   "execution_count": 5,
   "metadata": {},
   "outputs": [
    {
     "name": "stdout",
     "output_type": "stream",
     "text": [
      "multiply: 20\n"
     ]
    }
   ],
   "source": [
    "def document_it(func):\n",
    "    def new_function(a,b):\n",
    "        m=a*b\n",
    "        print('multiply:',m)\n",
    "    return new_function\n",
    "\n",
    "@document_it\n",
    "def add_ints(a,b):\n",
    "    return a + b\n",
    "\n",
    "add_ints(10,2)"
   ]
  },
  {
   "cell_type": "markdown",
   "metadata": {},
   "source": [
    "# HW3"
   ]
  },
  {
   "cell_type": "code",
   "execution_count": 6,
   "metadata": {},
   "outputs": [
    {
     "name": "stdout",
     "output_type": "stream",
     "text": [
      "請輸入一個整數：2.5\n",
      "出錯，請重新輸入\n"
     ]
    }
   ],
   "source": [
    "a=input('請輸入一個整數：')\n",
    "try:\n",
    "    print(int(a))\n",
    "except:\n",
    "    print('出錯，請重新輸入')"
   ]
  },
  {
   "cell_type": "markdown",
   "metadata": {},
   "source": [
    "# HW4"
   ]
  },
  {
   "cell_type": "code",
   "execution_count": 3,
   "metadata": {},
   "outputs": [
    {
     "name": "stdout",
     "output_type": "stream",
     "text": [
      "請輸入第一個數字：3\n",
      "請輸入第二個數字：2\n",
      "請輸入運算值：*\n",
      "6\n"
     ]
    }
   ],
   "source": [
    "from source import calculator\n",
    "\n",
    "input1=int(input('請輸入第一個數字：'))\n",
    "input2=int(input('請輸入第二個數字：'))\n",
    "f=input('請輸入運算值：')\n",
    "  \n",
    "print(calculator.answer(input1,input2,f))"
   ]
  },
  {
   "cell_type": "code",
   "execution_count": null,
   "metadata": {},
   "outputs": [],
   "source": []
  }
 ],
 "metadata": {
  "kernelspec": {
   "display_name": "Python 3",
   "language": "python",
   "name": "python3"
  },
  "language_info": {
   "codemirror_mode": {
    "name": "ipython",
    "version": 3
   },
   "file_extension": ".py",
   "mimetype": "text/x-python",
   "name": "python",
   "nbconvert_exporter": "python",
   "pygments_lexer": "ipython3",
   "version": "3.6.4"
  }
 },
 "nbformat": 4,
 "nbformat_minor": 2
}
