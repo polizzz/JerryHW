{
 "cells": [
  {
   "cell_type": "markdown",
   "metadata": {},
   "source": [
    "## HOMEWORK"
   ]
  },
  {
   "cell_type": "code",
   "execution_count": 7,
   "metadata": {},
   "outputs": [
    {
     "ename": "NameError",
     "evalue": "name 'flavors' is not defined",
     "output_type": "error",
     "traceback": [
      "\u001b[1;31m---------------------------------------------------------------------------\u001b[0m",
      "\u001b[1;31mNameError\u001b[0m                                 Traceback (most recent call last)",
      "\u001b[1;32m<ipython-input-7-5f18391c172b>\u001b[0m in \u001b[0;36m<module>\u001b[1;34m()\u001b[0m\n\u001b[0;32m     18\u001b[0m \u001b[1;33m\u001b[0m\u001b[0m\n\u001b[0;32m     19\u001b[0m \u001b[1;33m\u001b[0m\u001b[0m\n\u001b[1;32m---> 20\u001b[1;33m \u001b[0mstand\u001b[0m \u001b[1;33m=\u001b[0m \u001b[0mIceCreamStand\u001b[0m\u001b[1;33m(\u001b[0m\u001b[1;34m\"冰淇淋小舖\"\u001b[0m\u001b[1;33m,\u001b[0m\u001b[1;34m\"炒冰\"\u001b[0m\u001b[1;33m,\u001b[0m\u001b[0mflavors\u001b[0m\u001b[1;33m)\u001b[0m\u001b[1;33m\u001b[0m\u001b[0m\n\u001b[0m\u001b[0;32m     21\u001b[0m \u001b[0mstand\u001b[0m\u001b[1;33m.\u001b[0m\u001b[0mdescribe_restaurant\u001b[0m\u001b[1;33m(\u001b[0m\u001b[1;33m)\u001b[0m\u001b[1;33m\u001b[0m\u001b[0m\n\u001b[0;32m     22\u001b[0m \u001b[0mstand\u001b[0m\u001b[1;33m.\u001b[0m\u001b[0mshow_flavors\u001b[0m\u001b[1;33m(\u001b[0m\u001b[1;33m)\u001b[0m\u001b[1;33m\u001b[0m\u001b[0m\n",
      "\u001b[1;31mNameError\u001b[0m: name 'flavors' is not defined"
     ]
    }
   ],
   "source": [
    "class Restaurant():\n",
    "    def __init__(self,name,way):\n",
    "        self.name = name\n",
    "        self.way = way\n",
    "    def describe_restaurant(self):\n",
    "        print(\"餐廳名稱：\"+self.name+\" 烹飪方式：\"+self.way)\n",
    "        \n",
    "class IceCreamStand(Restaurant):\n",
    "    \n",
    "    global flavors\n",
    "    def __init__(self,name,way,flavors):\n",
    "        super().__init__(name,way)\n",
    "        self.flavors = flavors\n",
    "        \n",
    "    def show_flavors(self):\n",
    "        flavors = [\"草莓冰淇淋\",\"香草冰淇淋\",\"薄荷巧克力\",\"覆盆子\"]\n",
    "        print(\"我喜歡的⼝味： \"+str(self.flavors))\n",
    "        \n",
    "\n",
    "stand = IceCreamStand(\"冰淇淋小舖\",\"炒冰\",flavors)\n",
    "stand.describe_restaurant()\n",
    "stand.show_flavors()\n",
    "\n",
    "\n",
    "        "
   ]
  },
  {
   "cell_type": "code",
   "execution_count": 8,
   "metadata": {},
   "outputs": [],
   "source": [
    "class A(object): \n",
    "    def go(self):\n",
    "        print (\"go A go!\") \n",
    "    def stop(self):\n",
    "        print (\"stop A stop!\") \n",
    "    def pause(self):\n",
    "        raise Exception(\"Not Implemented\")\n",
    "class B(A): \n",
    "    def go(self):\n",
    "        super(B, self).go() \n",
    "        print (\"go B go!\")\n",
    "class C(A): \n",
    "    def go(self):\n",
    "        super(C, self).go()\n",
    "        print (\"go C go!\") \n",
    "    def stop(self):\n",
    "        super(C, self).stop() \n",
    "        print (\"stop C stop!\")\n",
    "class D(B,C): \n",
    "    def go(self):\n",
    "        super(D, self).go()\n",
    "        print (\"go D go!\") \n",
    "    def stop(self):\n",
    "        super(D, self).stop()\n",
    "        print (\"stop D stop!\") \n",
    "    def pause(self):\n",
    "        print (\"wait D wait!\")\n",
    "class E(B,C): \n",
    "    pass"
   ]
  },
  {
   "cell_type": "code",
   "execution_count": 9,
   "metadata": {},
   "outputs": [
    {
     "name": "stdout",
     "output_type": "stream",
     "text": [
      "go A go!\n",
      "go A go!\n",
      "go B go!\n",
      "go A go!\n",
      "go C go!\n"
     ]
    }
   ],
   "source": [
    "a = A()\n",
    "b = B()\n",
    "c = C()\n",
    "d = D()\n",
    "e = E()\n",
    "a.go() \n",
    "b.go() \n",
    "c.go() \n",
    "#d.go() \n",
    "#e.go()\n",
    "#a.stop() \n",
    "#b.stop() \n",
    "#c.stop() \n",
    "#d.stop() \n",
    "#e.stop()\n",
    "#a.pause() \n",
    "#b.pause() \n",
    "#c.pause() \n",
    "#d.pause() \n",
    "#e.pause()"
   ]
  },
  {
   "cell_type": "code",
   "execution_count": null,
   "metadata": {},
   "outputs": [],
   "source": []
  }
 ],
 "metadata": {
  "kernelspec": {
   "display_name": "Python 3",
   "language": "python",
   "name": "python3"
  },
  "language_info": {
   "codemirror_mode": {
    "name": "ipython",
    "version": 3
   },
   "file_extension": ".py",
   "mimetype": "text/x-python",
   "name": "python",
   "nbconvert_exporter": "python",
   "pygments_lexer": "ipython3",
   "version": "3.6.4"
  }
 },
 "nbformat": 4,
 "nbformat_minor": 2
}
